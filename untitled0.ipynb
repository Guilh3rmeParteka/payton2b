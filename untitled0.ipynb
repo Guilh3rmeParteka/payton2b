{
  "nbformat": 4,
  "nbformat_minor": 0,
  "metadata": {
    "colab": {
      "provenance": [],
      "include_colab_link": true
    },
    "kernelspec": {
      "name": "python3",
      "display_name": "Python 3"
    },
    "language_info": {
      "name": "python"
    }
  },
  "cells": [
    {
      "cell_type": "markdown",
      "metadata": {
        "id": "view-in-github",
        "colab_type": "text"
      },
      "source": [
        "<a href=\"https://colab.research.google.com/github/Guilh3rmeParteka/payton2b/blob/main/untitled0.ipynb\" target=\"_parent\"><img src=\"https://colab.research.google.com/assets/colab-badge.svg\" alt=\"Open In Colab\"/></a>"
      ]
    },
    {
      "cell_type": "markdown",
      "source": [
        "**Aula 1** ✅ 🔀 📛"
      ],
      "metadata": {
        "id": "Bm1uMxMRyMsh"
      }
    },
    {
      "cell_type": "code",
      "execution_count": null,
      "metadata": {
        "colab": {
          "base_uri": "https://localhost:8080/"
        },
        "id": "UQaogN7TyHK1",
        "outputId": "a5b2e9e1-d4af-427b-a3ce-aae9c7df562b"
      },
      "outputs": [
        {
          "output_type": "stream",
          "name": "stdout",
          "text": [
            "I competição de programação dá Start\n",
            "II competição de programação da Start\n"
          ]
        }
      ],
      "source": [
        "print(\"I competição de programação dá Start\")\n",
        "ano = \"IX\"\n",
        "print(ano, \"competição de programa if P == 0:\n",
        "    print(\"C\")\n",
        "elif R == 1:\n",
        "    print(\"A\")\n",
        "else:\n",
        "    print(\"B\")ção da Start\")\n",
        "print(f\"{ano} competição de programação da Start\")"
      ]
    },
    {
      "cell_type": "markdown",
      "source": [
        "**Aula 2** 🍎 🌒 🤪"
      ],
      "metadata": {
        "id": "QI0QGGFwu_8p"
      }
    },
    {
      "cell_type": "code",
      "source": [
        "livro_ficcao = 8\n",
        "livro_n_ficcao = 10\n",
        "livro_infantil = 6\n",
        "pontos_rodrigo = livro_ficcao + livro_n_ficcao + livro_infantil\n",
        "print(f\"Os pontos totais do Rodrigo são {pontos_rodrigo}\")\n"
      ],
      "metadata": {
        "id": "tUJoZ8Lf0dOi"
      },
      "execution_count": null,
      "outputs": []
    },
    {
      "cell_type": "markdown",
      "source": [
        "**Aula** 3   🥱 💤 ⏰"
      ],
      "metadata": {
        "id": "wKGIWUrEu1sx"
      }
    },
    {
      "cell_type": "code",
      "source": [
        "numero_de_alunos = int(input(\"Digite a quantidade de alunos: \"))\n",
        "numero_de_monitores = int(input(\"Digite a quantidade de monitores: \"))\n",
        "numero_de_professores = 8\n",
        "if numero_de_alunos + numero_de_monitores + numero_de_professores <= 50:\n",
        "  resposta_positiva = \"pode ir\"\n",
        "resposta_negativa = \"não pode ir\"\n",
        "if numero_de_alunos + numero_de_monitores + numero_de_professores <= 50:\n",
        "  print(resposta_positiva)\n",
        "else:\n",
        "  print(resposta_negativa)\n"
      ],
      "metadata": {
        "colab": {
          "base_uri": "https://localhost:8080/"
        },
        "id": "upbKEoDCw3LM",
        "outputId": "97f0df66-225d-4744-880a-4e23c95585c1"
      },
      "execution_count": null,
      "outputs": [
        {
          "output_type": "stream",
          "name": "stdout",
          "text": [
            "Digite a quantidade de alunos: 30\n",
            "Digite a quantidade de monitores: 10\n",
            "pode ir\n"
          ]
        }
      ]
    },
    {
      "cell_type": "markdown",
      "source": [
        "**Aula 4** ✈ ☄ ⏸"
      ],
      "metadata": {
        "id": "5XY5wD5c3n0a"
      }
    },
    {
      "cell_type": "code",
      "source": [
        "P = int(input(\"Digite a posição da porta P (0 ou 1): \"))\n",
        "R = int(input(\"Digite a posição da porta R (0 ou 1): \"))\n",
        "if P == 0:\n",
        "    print(\"C\")\n",
        "elif R == 1:\n",
        "    print(\"A\")\n",
        "1\n",
        "else:\n",
        "    print(\"B\")"
      ],
      "metadata": {
        "colab": {
          "base_uri": "https://localhost:8080/"
        },
        "id": "krLs5opq3vGI",
        "outputId": "9138bac9-7f51-4f0c-c44e-c685dbe80c01"
      },
      "execution_count": null,
      "outputs": [
        {
          "output_type": "stream",
          "name": "stdout",
          "text": [
            "Digite a posição da porta P (0 ou 1): 1\n",
            "Digite a posição da porta R (0 ou 1): 1\n",
            "A\n"
          ]
        }
      ]
    },
    {
      "cell_type": "markdown",
      "source": [
        "**Aula 5** ⭐ 🈯 🌱 *Tabuada*"
      ],
      "metadata": {
        "id": "9Sta_-zu6xxW"
      }
    },
    {
      "cell_type": "code",
      "source": [
        "def tabuada(numero):\n",
        "    for contador in range(1, 11):  # Gera números de 1 a 10\n",
        "        print(f\"{numero} x {contador} = {numero * contador}\")\n",
        "numero = int(input(\"Digite um número para ver sua tabuada: \"))\n",
        "tabuada(numero)"
      ],
      "metadata": {
        "id": "xmnch0q772p3",
        "outputId": "79d5fa65-4e01-4830-c6c0-5ef943243999",
        "colab": {
          "base_uri": "https://localhost:8080/"
        }
      },
      "execution_count": null,
      "outputs": [
        {
          "output_type": "stream",
          "name": "stdout",
          "text": [
            "Digite um número para ver sua tabuada: 9\n",
            "9 x 1 = 9\n",
            "9 x 2 = 18\n",
            "9 x 3 = 27\n",
            "9 x 4 = 36\n",
            "9 x 5 = 45\n",
            "9 x 6 = 54\n",
            "9 x 7 = 63\n",
            "9 x 8 = 72\n",
            "9 x 9 = 81\n",
            "9 x 10 = 90\n"
          ]
        }
      ]
    },
    {
      "cell_type": "markdown",
      "source": [
        "**Aula 6** ◀ ▶ ✅"
      ],
      "metadata": {
        "id": "cYXOsxFP8-Le"
      }
    },
    {
      "cell_type": "code",
      "source": [
        "peso = float(input(\"Digite seu peso (em kg): \"))\n",
        "altura = float(input(\"Digite sua altura (em metros): \"))\n",
        "imc = peso / (altura ** 2)\n",
        "print(f\"\\nSeu IMC é: {imc:.2f}\")\n",
        "if imc < 18.5:\n",
        "    print(\"Você está abaixo do peso.\")\n",
        "elif 18.5 <= imc < 25:\n",
        "    print(\"Você está no peso ideal.\")\n",
        "elif 25 <= imc < 30:\n",
        "    print(\"Você está com sobrepeso.\")\n",
        "else:\n",
        "    print(\"Você está acima do peso.\")"
      ],
      "metadata": {
        "id": "r54I_QXM9PBW",
        "outputId": "50e10445-2f83-4909-b377-e8053eecbd59",
        "colab": {
          "base_uri": "https://localhost:8080/"
        }
      },
      "execution_count": null,
      "outputs": [
        {
          "output_type": "stream",
          "name": "stdout",
          "text": [
            "Digite seu peso (em kg): 65\n",
            "Digite sua altura (em metros): 1.85\n",
            "\n",
            "Seu IMC é: 18.99\n",
            "Você está no peso ideal.\n"
          ]
        }
      ]
    },
    {
      "cell_type": "markdown",
      "source": [
        "**Aula 7** ⚛ ♈ ✈"
      ],
      "metadata": {
        "id": "lv98oDnr2BF2"
      }
    },
    {
      "cell_type": "code",
      "source": [
        "print(\"Sou assistente virtual, como posso ajudar? \\n \")\n",
        "nome = input(\"digite seu nome: \")\n",
        "print(\"olá, \" + nome + \". Qual é sua dúvida hoje?\" )\n"
      ],
      "metadata": {
        "id": "BT_0qD0o3Qvn",
        "colab": {
          "base_uri": "https://localhost:8080/"
        },
        "outputId": "46aa39e6-b9f0-4ec1-93d2-ba8834b905f8"
      },
      "execution_count": null,
      "outputs": [
        {
          "output_type": "stream",
          "name": "stdout",
          "text": [
            "Sou assistente virtual, como posso ajudar? \n",
            " \n",
            "digite seu nome: guilher,e\n",
            "olá, guilher,e. Qual é sua dúvida hoje?\n"
          ]
        }
      ]
    },
    {
      "cell_type": "code",
      "source": [
        "print(\"Sou assistente virtual, como posso ajudar? \\n \")\n",
        "nome = input(\"digite seu nome: \")\n",
        "print(f\"olá, {nome}. Qual é sua dúvida hoje?\" )\n",
        "resposta = input(\"Qual assunto que deseja tratar: Matemática, Pyton, Javascript: \").lower()\n",
        "print(f\"Que bom, {nome}, vamos falar sobre {resposta}\")"
      ],
      "metadata": {
        "colab": {
          "base_uri": "https://localhost:8080/"
        },
        "id": "p3K07bxs-VUb",
        "outputId": "adf32d5a-0cee-41bb-d588-1017b802671e"
      },
      "execution_count": null,
      "outputs": [
        {
          "output_type": "stream",
          "name": "stdout",
          "text": [
            "Sou assistente virtual, como posso ajudar? \n",
            " \n"
          ]
        }
      ]
    }
  ]
}